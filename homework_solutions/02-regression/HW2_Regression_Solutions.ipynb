{
 "cells": [
  {
   "cell_type": "code",
   "execution_count": 1,
   "id": "e1cda975-6820-4ca8-bd81-5834e30b23be",
   "metadata": {},
   "outputs": [],
   "source": [
    "import os\n",
    "import sys\n",
    "\n",
    "import numpy as np\n",
    "import pandas as pd\n",
    "\n",
    "import seaborn as sns\n",
    "from matplotlib import pyplot as plt\n",
    "%matplotlib inline"
   ]
  },
  {
   "cell_type": "code",
   "execution_count": 2,
   "id": "25afd625-2a2d-49e4-b9a3-4e26251d843f",
   "metadata": {},
   "outputs": [
    {
     "data": {
      "text/html": [
       "<div>\n",
       "<style scoped>\n",
       "    .dataframe tbody tr th:only-of-type {\n",
       "        vertical-align: middle;\n",
       "    }\n",
       "\n",
       "    .dataframe tbody tr th {\n",
       "        vertical-align: top;\n",
       "    }\n",
       "\n",
       "    .dataframe thead th {\n",
       "        text-align: right;\n",
       "    }\n",
       "</style>\n",
       "<table border=\"1\" class=\"dataframe\">\n",
       "  <thead>\n",
       "    <tr style=\"text-align: right;\">\n",
       "      <th></th>\n",
       "      <th>engine_displacement</th>\n",
       "      <th>num_cylinders</th>\n",
       "      <th>horsepower</th>\n",
       "      <th>vehicle_weight</th>\n",
       "      <th>acceleration</th>\n",
       "      <th>model_year</th>\n",
       "      <th>origin</th>\n",
       "      <th>fuel_type</th>\n",
       "      <th>drivetrain</th>\n",
       "      <th>num_doors</th>\n",
       "      <th>fuel_efficiency_mpg</th>\n",
       "    </tr>\n",
       "  </thead>\n",
       "  <tbody>\n",
       "    <tr>\n",
       "      <th>0</th>\n",
       "      <td>170</td>\n",
       "      <td>3.0</td>\n",
       "      <td>159.0</td>\n",
       "      <td>3413.433759</td>\n",
       "      <td>17.7</td>\n",
       "      <td>2003</td>\n",
       "      <td>Europe</td>\n",
       "      <td>Gasoline</td>\n",
       "      <td>All-wheel drive</td>\n",
       "      <td>0.0</td>\n",
       "      <td>13.231729</td>\n",
       "    </tr>\n",
       "    <tr>\n",
       "      <th>1</th>\n",
       "      <td>130</td>\n",
       "      <td>5.0</td>\n",
       "      <td>97.0</td>\n",
       "      <td>3149.664934</td>\n",
       "      <td>17.8</td>\n",
       "      <td>2007</td>\n",
       "      <td>USA</td>\n",
       "      <td>Gasoline</td>\n",
       "      <td>Front-wheel drive</td>\n",
       "      <td>0.0</td>\n",
       "      <td>13.688217</td>\n",
       "    </tr>\n",
       "    <tr>\n",
       "      <th>2</th>\n",
       "      <td>170</td>\n",
       "      <td>NaN</td>\n",
       "      <td>78.0</td>\n",
       "      <td>3079.038997</td>\n",
       "      <td>15.1</td>\n",
       "      <td>2018</td>\n",
       "      <td>Europe</td>\n",
       "      <td>Gasoline</td>\n",
       "      <td>Front-wheel drive</td>\n",
       "      <td>0.0</td>\n",
       "      <td>14.246341</td>\n",
       "    </tr>\n",
       "    <tr>\n",
       "      <th>3</th>\n",
       "      <td>220</td>\n",
       "      <td>4.0</td>\n",
       "      <td>NaN</td>\n",
       "      <td>2542.392402</td>\n",
       "      <td>20.2</td>\n",
       "      <td>2009</td>\n",
       "      <td>USA</td>\n",
       "      <td>Diesel</td>\n",
       "      <td>All-wheel drive</td>\n",
       "      <td>2.0</td>\n",
       "      <td>16.912736</td>\n",
       "    </tr>\n",
       "    <tr>\n",
       "      <th>4</th>\n",
       "      <td>210</td>\n",
       "      <td>1.0</td>\n",
       "      <td>140.0</td>\n",
       "      <td>3460.870990</td>\n",
       "      <td>14.4</td>\n",
       "      <td>2009</td>\n",
       "      <td>Europe</td>\n",
       "      <td>Gasoline</td>\n",
       "      <td>All-wheel drive</td>\n",
       "      <td>2.0</td>\n",
       "      <td>12.488369</td>\n",
       "    </tr>\n",
       "  </tbody>\n",
       "</table>\n",
       "</div>"
      ],
      "text/plain": [
       "   engine_displacement  num_cylinders  horsepower  vehicle_weight  \\\n",
       "0                  170            3.0       159.0     3413.433759   \n",
       "1                  130            5.0        97.0     3149.664934   \n",
       "2                  170            NaN        78.0     3079.038997   \n",
       "3                  220            4.0         NaN     2542.392402   \n",
       "4                  210            1.0       140.0     3460.870990   \n",
       "\n",
       "   acceleration  model_year  origin fuel_type         drivetrain  num_doors  \\\n",
       "0          17.7        2003  Europe  Gasoline    All-wheel drive        0.0   \n",
       "1          17.8        2007     USA  Gasoline  Front-wheel drive        0.0   \n",
       "2          15.1        2018  Europe  Gasoline  Front-wheel drive        0.0   \n",
       "3          20.2        2009     USA    Diesel    All-wheel drive        2.0   \n",
       "4          14.4        2009  Europe  Gasoline    All-wheel drive        2.0   \n",
       "\n",
       "   fuel_efficiency_mpg  \n",
       "0            13.231729  \n",
       "1            13.688217  \n",
       "2            14.246341  \n",
       "3            16.912736  \n",
       "4            12.488369  "
      ]
     },
     "execution_count": 2,
     "metadata": {},
     "output_type": "execute_result"
    }
   ],
   "source": [
    "# Load Data\n",
    "df = pd.read_csv(\"car_fuel_efficiency.csv\")\n",
    "df.head()"
   ]
  },
  {
   "cell_type": "code",
   "execution_count": 3,
   "id": "bc4bdd7f-9144-420a-972d-1ecd922e42ea",
   "metadata": {},
   "outputs": [],
   "source": [
    "# COLUMNS TO USE\n",
    "SELECT_COLS = [\n",
    "    'engine_displacement',\n",
    "    'horsepower',\n",
    "    'vehicle_weight',\n",
    "    'model_year',\n",
    "    'fuel_efficiency_mpg',\n",
    "]"
   ]
  },
  {
   "cell_type": "code",
   "execution_count": 4,
   "id": "e03596de-0486-4c3a-aaec-c3130c56a36e",
   "metadata": {},
   "outputs": [],
   "source": [
    "X_COLS = [\n",
    "    'engine_displacement',\n",
    "    'horsepower',\n",
    "    'vehicle_weight',\n",
    "    'model_year',\n",
    "]\n",
    "\n",
    "Y_COL = ['fuel_efficiency_mpg']"
   ]
  },
  {
   "cell_type": "markdown",
   "id": "82b8a133-1a7f-4273-9de2-97fe5ba667c4",
   "metadata": {},
   "source": [
    "### Distribution of fuel efficiency \n",
    "\n",
    "- Normal Distribution IS IT?"
   ]
  },
  {
   "cell_type": "code",
   "execution_count": 5,
   "id": "293539b4-fd29-4e3a-b87a-6399f9127cd6",
   "metadata": {},
   "outputs": [
    {
     "data": {
      "text/plain": [
       "<Axes: xlabel='fuel_efficiency_mpg', ylabel='Count'>"
      ]
     },
     "execution_count": 5,
     "metadata": {},
     "output_type": "execute_result"
    },
    {
     "data": {
      "image/png": "[encoded data removed]",
      "text/plain": [
       "<Figure size 640x480 with 1 Axes>"
      ]
     },
     "metadata": {},
     "output_type": "display_data"
    }
   ],
   "source": [
    "sns.histplot(data=df, x=\"fuel_efficiency_mpg\", kde=True)"
   ]
  },
  {
   "cell_type": "markdown",
   "id": "dc5e18c0-6f2e-44f5-9cdc-6a5d5a691636",
   "metadata": {},
   "source": [
    "## Q1"
   ]
  },
  {
   "cell_type": "code",
   "execution_count": 6,
   "id": "844e783a-2607-4eb3-b48a-4e619f84c62a",
   "metadata": {},
   "outputs": [
    {
     "data": {
      "text/plain": [
       "engine_displacement      0\n",
       "horsepower             708\n",
       "vehicle_weight           0\n",
       "model_year               0\n",
       "fuel_efficiency_mpg      0\n",
       "dtype: int64"
      ]
     },
     "execution_count": 6,
     "metadata": {},
     "output_type": "execute_result"
    }
   ],
   "source": [
    "df[SELECT_COLS].isnull().sum()"
   ]
  },
  {
   "cell_type": "markdown",
   "id": "bdb73855-eb75-44f8-83b7-c894913b64dc",
   "metadata": {},
   "source": [
    "## Q2"
   ]
  },
  {
   "cell_type": "code",
   "execution_count": 7,
   "id": "bd52d319-1e8c-43e2-93e7-31ba5edae241",
   "metadata": {},
   "outputs": [
    {
     "data": {
      "text/html": [
       "<div>\n",
       "<style scoped>\n",
       "    .dataframe tbody tr th:only-of-type {\n",
       "        vertical-align: middle;\n",
       "    }\n",
       "\n",
       "    .dataframe tbody tr th {\n",
       "        vertical-align: top;\n",
       "    }\n",
       "\n",
       "    .dataframe thead th {\n",
       "        text-align: right;\n",
       "    }\n",
       "</style>\n",
       "<table border=\"1\" class=\"dataframe\">\n",
       "  <thead>\n",
       "    <tr style=\"text-align: right;\">\n",
       "      <th></th>\n",
       "      <th>engine_displacement</th>\n",
       "      <th>horsepower</th>\n",
       "      <th>vehicle_weight</th>\n",
       "      <th>model_year</th>\n",
       "      <th>fuel_efficiency_mpg</th>\n",
       "    </tr>\n",
       "  </thead>\n",
       "  <tbody>\n",
       "    <tr>\n",
       "      <th>count</th>\n",
       "      <td>9704.000000</td>\n",
       "      <td>8996.000000</td>\n",
       "      <td>9704.000000</td>\n",
       "      <td>9704.000000</td>\n",
       "      <td>9704.000000</td>\n",
       "    </tr>\n",
       "    <tr>\n",
       "      <th>mean</th>\n",
       "      <td>199.708368</td>\n",
       "      <td>149.657292</td>\n",
       "      <td>3001.280993</td>\n",
       "      <td>2011.484027</td>\n",
       "      <td>14.985243</td>\n",
       "    </tr>\n",
       "    <tr>\n",
       "      <th>std</th>\n",
       "      <td>49.455319</td>\n",
       "      <td>29.879555</td>\n",
       "      <td>497.894860</td>\n",
       "      <td>6.659808</td>\n",
       "      <td>2.556468</td>\n",
       "    </tr>\n",
       "    <tr>\n",
       "      <th>min</th>\n",
       "      <td>10.000000</td>\n",
       "      <td>37.000000</td>\n",
       "      <td>952.681761</td>\n",
       "      <td>2000.000000</td>\n",
       "      <td>6.200971</td>\n",
       "    </tr>\n",
       "    <tr>\n",
       "      <th>25%</th>\n",
       "      <td>170.000000</td>\n",
       "      <td>130.000000</td>\n",
       "      <td>2666.248985</td>\n",
       "      <td>2006.000000</td>\n",
       "      <td>13.267459</td>\n",
       "    </tr>\n",
       "    <tr>\n",
       "      <th>50%</th>\n",
       "      <td>200.000000</td>\n",
       "      <td>149.000000</td>\n",
       "      <td>2993.226296</td>\n",
       "      <td>2012.000000</td>\n",
       "      <td>15.006037</td>\n",
       "    </tr>\n",
       "    <tr>\n",
       "      <th>75%</th>\n",
       "      <td>230.000000</td>\n",
       "      <td>170.000000</td>\n",
       "      <td>3334.957039</td>\n",
       "      <td>2017.000000</td>\n",
       "      <td>16.707965</td>\n",
       "    </tr>\n",
       "    <tr>\n",
       "      <th>max</th>\n",
       "      <td>380.000000</td>\n",
       "      <td>271.000000</td>\n",
       "      <td>4739.077089</td>\n",
       "      <td>2023.000000</td>\n",
       "      <td>25.967222</td>\n",
       "    </tr>\n",
       "  </tbody>\n",
       "</table>\n",
       "</div>"
      ],
      "text/plain": [
       "       engine_displacement   horsepower  vehicle_weight   model_year  \\\n",
       "count          9704.000000  8996.000000     9704.000000  9704.000000   \n",
       "mean            199.708368   149.657292     3001.280993  2011.484027   \n",
       "std              49.455319    29.879555      497.894860     6.659808   \n",
       "min              10.000000    37.000000      952.681761  2000.000000   \n",
       "25%             170.000000   130.000000     2666.248985  2006.000000   \n",
       "50%             200.000000   149.000000     2993.226296  2012.000000   \n",
       "75%             230.000000   170.000000     3334.957039  2017.000000   \n",
       "max             380.000000   271.000000     4739.077089  2023.000000   \n",
       "\n",
       "       fuel_efficiency_mpg  \n",
       "count          9704.000000  \n",
       "mean             14.985243  \n",
       "std               2.556468  \n",
       "min               6.200971  \n",
       "25%              13.267459  \n",
       "50%              15.006037  \n",
       "75%              16.707965  \n",
       "max              25.967222  "
      ]
     },
     "execution_count": 7,
     "metadata": {},
     "output_type": "execute_result"
    }
   ],
   "source": [
    "df[SELECT_COLS].describe()"
   ]
  },
  {
   "cell_type": "markdown",
   "id": "97442c80-3791-4ce2-9e88-2b209074a761",
   "metadata": {},
   "source": [
    "## Regression Functions \n",
    "\n",
    "- prepare and split\n",
    "- train linear regression\n",
    "- RMSE eval\n",
    "- prediction"
   ]
  },
  {
   "cell_type": "code",
   "execution_count": 8,
   "id": "3368a131-c5c2-4f59-a1d0-842534d9b7d1",
   "metadata": {},
   "outputs": [],
   "source": [
    "np.random.seed(2)"
   ]
  },
  {
   "cell_type": "code",
   "execution_count": 9,
   "id": "661f0c1f-157c-475c-97a8-a618bfe9fd96",
   "metadata": {},
   "outputs": [],
   "source": [
    "def split_dataset(df, y_col):\n",
    "    \n",
    "    n = len(df)\n",
    "\n",
    "    n_val = int(0.2 * n)\n",
    "    n_test = int(0.2 * n)\n",
    "    n_train = n - (n_val + n_test)\n",
    "    \n",
    "    idx = np.arange(n)\n",
    "    np.random.shuffle(idx)\n",
    "    \n",
    "    df_shuffled = df.iloc[idx]\n",
    "    \n",
    "    df_train = df_shuffled.iloc[:n_train].copy()\n",
    "    df_val = df_shuffled.iloc[n_train:n_train+n_val].copy()\n",
    "    df_test = df_shuffled.iloc[n_train+n_val:].copy()\n",
    "\n",
    "    y_train = df_train[y_col].values\n",
    "    y_val = df_val[y_col].values\n",
    "    y_test = df_test[y_col].values\n",
    "\n",
    "    return df_train, y_train, df_val, y_val, df_test, y_test"
   ]
  },
  {
   "cell_type": "code",
   "execution_count": 10,
   "id": "6c38e02c-d7c1-4b27-a0f5-e4e47dbddf8e",
   "metadata": {},
   "outputs": [],
   "source": [
    "def prepare_X(df, base, fillna_val=0):\n",
    "    df_num = df[base]\n",
    "    df_num = df_num.fillna(fillna_val)\n",
    "    X = df_num.values\n",
    "    return X"
   ]
  },
  {
   "cell_type": "code",
   "execution_count": 11,
   "id": "a8774223-8554-4f16-920e-d3a9163b32d5",
   "metadata": {},
   "outputs": [],
   "source": [
    "def train_linear_regression(X, y):\n",
    "    ones = np.ones(X.shape[0])\n",
    "    X = np.column_stack([ones, X])\n",
    "\n",
    "    XTX = X.T.dot(X)\n",
    "    XTX_inv = np.linalg.inv(XTX)\n",
    "    w = XTX_inv.dot(X.T).dot(y)\n",
    "    \n",
    "    return w[0], w[1:]"
   ]
  },
  {
   "cell_type": "code",
   "execution_count": 12,
   "id": "77272cce-a054-48ad-9ee4-ad34753f306c",
   "metadata": {},
   "outputs": [],
   "source": [
    "def train_linear_regression_reg(X, y, r=0.0):\n",
    "    ones = np.ones(X.shape[0])\n",
    "    X = np.column_stack([ones, X])\n",
    "\n",
    "    XTX = X.T.dot(X)\n",
    "    reg = r * np.eye(XTX.shape[0])\n",
    "    XTX = XTX + reg\n",
    "\n",
    "    XTX_inv = np.linalg.inv(XTX)\n",
    "    w = XTX_inv.dot(X.T).dot(y)\n",
    "    \n",
    "    return w[0], w[1:]"
   ]
  },
  {
   "cell_type": "code",
   "execution_count": 13,
   "id": "7433e237-495d-4b88-ab7b-8843df94d24c",
   "metadata": {},
   "outputs": [],
   "source": [
    "def rmse(y, y_pred):\n",
    "    error = y_pred - y\n",
    "    mse = (error ** 2).mean()\n",
    "    return np.sqrt(mse)"
   ]
  },
  {
   "cell_type": "code",
   "execution_count": 14,
   "id": "8adf30d3-0317-4a88-bf5a-95bb795bda96",
   "metadata": {},
   "outputs": [],
   "source": [
    "def eval_pipeline(dft, yt, dfv, yv, cols, fillna_val=0, reg=0):\n",
    "    \n",
    "    X_train = prepare_X(dft, cols, fillna_val)\n",
    "    X_val = prepare_X(dfv, cols, fillna_val)\n",
    "\n",
    "    # training\n",
    "    w_0, w = train_linear_regression_reg(X_train, y_train, r=reg)\n",
    "\n",
    "\n",
    "    # measure error\n",
    "    y_pred = w_0 + X_train.dot(w)\n",
    "    err_train = rmse(yt, y_pred)\n",
    "    print('train error: ', round(err_train, 2))\n",
    "\n",
    "    y_pred = w_0 + X_val.dot(w)\n",
    "    err_val = rmse(yv, y_pred)\n",
    "    print('val error: ', round(err_val, 2))\n",
    "\n",
    "    return w_0, w, err_val"
   ]
  },
  {
   "cell_type": "markdown",
   "id": "185fe007-9a7b-4539-a291-94ff4c1e4f02",
   "metadata": {},
   "source": [
    "## Q3"
   ]
  },
  {
   "cell_type": "code",
   "execution_count": 15,
   "id": "8ea36eeb-3767-43b8-a782-d522134ad153",
   "metadata": {},
   "outputs": [],
   "source": [
    "df_train, y_train, df_val, y_val, df_test, y_test = split_dataset(df, y_col=Y_COL)"
   ]
  },
  {
   "cell_type": "markdown",
   "id": "90d33236-9394-4704-abd4-3d436ac1c094",
   "metadata": {},
   "source": [
    "### Train with 0 fill "
   ]
  },
  {
   "cell_type": "code",
   "execution_count": 16,
   "id": "21b17a7f-993b-4629-841c-98295647b447",
   "metadata": {},
   "outputs": [
    {
     "name": "stdout",
     "output_type": "stream",
     "text": [
      "train error:  0.52\n",
      "val error:  0.52\n"
     ]
    }
   ],
   "source": [
    "w_0, w, err_val = eval_pipeline(df_train, y_train, df_val, y_val, X_COLS, fillna_val=0)"
   ]
  },
  {
   "cell_type": "markdown",
   "id": "8b57f31e-c572-4174-8741-c4361fe362e6",
   "metadata": {},
   "source": [
    "### Train with mean fill"
   ]
  },
  {
   "cell_type": "code",
   "execution_count": 17,
   "id": "d7dc330d-c0f6-43b1-94f1-30e4aa16403e",
   "metadata": {},
   "outputs": [],
   "source": [
    "mean_val_fill = df_train['horsepower'].mean()"
   ]
  },
  {
   "cell_type": "code",
   "execution_count": 18,
   "id": "7e413776-c3e6-4f7c-aa89-585fecc59257",
   "metadata": {},
   "outputs": [
    {
     "name": "stdout",
     "output_type": "stream",
     "text": [
      "train error:  0.46\n",
      "val error:  0.47\n"
     ]
    }
   ],
   "source": [
    "w_0, w, err_val= eval_pipeline(df_train, y_train, df_val, y_val, X_COLS, fillna_val=mean_val_fill)"
   ]
  },
  {
   "cell_type": "markdown",
   "id": "c48e5b56-7568-48c9-96aa-5f1a0225f74f",
   "metadata": {},
   "source": [
    "## Q4"
   ]
  },
  {
   "cell_type": "code",
   "execution_count": 19,
   "id": "8ce9ecd1-c52e-4738-b6ea-00f9cf1dabc8",
   "metadata": {},
   "outputs": [
    {
     "name": "stdout",
     "output_type": "stream",
     "text": [
      "For reg= 0\n",
      "train error:  0.52\n",
      "val error:  0.52\n",
      "==================================================\n",
      "For reg= 0.01\n",
      "train error:  0.52\n",
      "val error:  0.52\n",
      "==================================================\n",
      "For reg= 0.1\n",
      "train error:  0.52\n",
      "val error:  0.53\n",
      "==================================================\n",
      "For reg= 1\n",
      "train error:  0.53\n",
      "val error:  0.53\n",
      "==================================================\n",
      "For reg= 5\n",
      "train error:  0.53\n",
      "val error:  0.53\n",
      "==================================================\n",
      "For reg= 10\n",
      "train error:  0.53\n",
      "val error:  0.53\n",
      "==================================================\n",
      "For reg= 100\n",
      "train error:  0.53\n",
      "val error:  0.53\n",
      "==================================================\n"
     ]
    }
   ],
   "source": [
    "for r in [0, 0.01, 0.1, 1, 5, 10, 100]:\n",
    "    print('For reg=', r)\n",
    "    w_0, w, err_val = eval_pipeline(df_train, y_train, df_val, y_val, X_COLS, fillna_val=0, reg=r)\n",
    "    print('=' * 50)"
   ]
  },
  {
   "cell_type": "markdown",
   "id": "53bf2e89-ac21-4e37-b63f-c04a06bef540",
   "metadata": {},
   "source": [
    "## Q5"
   ]
  },
  {
   "cell_type": "code",
   "execution_count": 20,
   "id": "6bb716d4-fa69-4bfb-ac7b-b34f1e5d49e6",
   "metadata": {},
   "outputs": [
    {
     "name": "stdout",
     "output_type": "stream",
     "text": [
      "set np random seed val to  0.0\n",
      "train error:  0.52\n",
      "val error:  0.52\n",
      "set np random seed val to  1.0\n",
      "train error:  0.51\n",
      "val error:  0.52\n",
      "set np random seed val to  2.0\n",
      "train error:  0.52\n",
      "val error:  0.52\n",
      "set np random seed val to  3.0\n",
      "train error:  0.52\n",
      "val error:  0.52\n",
      "set np random seed val to  4.0\n",
      "train error:  0.52\n",
      "val error:  0.51\n",
      "set np random seed val to  5.0\n",
      "train error:  0.52\n",
      "val error:  0.53\n",
      "set np random seed val to  6.0\n",
      "train error:  0.51\n",
      "val error:  0.53\n",
      "set np random seed val to  7.0\n",
      "train error:  0.52\n",
      "val error:  0.51\n",
      "set np random seed val to  8.0\n",
      "train error:  0.52\n",
      "val error:  0.51\n",
      "set np random seed val to  9.0\n",
      "train error:  0.52\n",
      "val error:  0.51\n"
     ]
    }
   ],
   "source": [
    "score_list = []\n",
    "for seed_val in np.linspace(0, 9, 10):\n",
    "    print('set np random seed val to ', seed_val)\n",
    "    np.random.seed(int(seed_val))\n",
    "    df_train, y_train, df_val, y_val, df_test, y_test = split_dataset(df, y_col=Y_COL)\n",
    "    w_0, w, err_val = eval_pipeline(df_train, y_train, df_val, y_val, X_COLS, fillna_val=0, reg=0)\n",
    "    score_list.append(err_val)"
   ]
  },
  {
   "cell_type": "code",
   "execution_count": 21,
   "id": "74e91c24-3005-4563-84ef-c408b6561550",
   "metadata": {},
   "outputs": [
    {
     "data": {
      "text/plain": [
       "0.007"
      ]
     },
     "execution_count": 21,
     "metadata": {},
     "output_type": "execute_result"
    }
   ],
   "source": [
    "round(np.std(score_list), 3)"
   ]
  },
  {
   "cell_type": "markdown",
   "id": "4740a3c5-05bf-45a5-9a3a-e71ad0f9dfe4",
   "metadata": {},
   "source": [
    "## Q6"
   ]
  },
  {
   "cell_type": "code",
   "execution_count": 22,
   "id": "14932988-e8e1-469e-8ed9-e9ffcdd422f7",
   "metadata": {},
   "outputs": [],
   "source": [
    "np.random.seed(9)\n",
    "df_train, y_train, df_val, y_val, df_test, y_test = split_dataset(df, y_col=Y_COL)"
   ]
  },
  {
   "cell_type": "code",
   "execution_count": 27,
   "id": "a162deb4-17b8-4f14-b464-883a9384713c",
   "metadata": {},
   "outputs": [],
   "source": [
    "df_val_ = pd.concat([df_val, df_test])\n",
    "y_val_ = np.vstack((y_val, y_test))"
   ]
  },
  {
   "cell_type": "code",
   "execution_count": 28,
   "id": "7fbb194b-36f3-4d08-b614-f22d536360b7",
   "metadata": {},
   "outputs": [
    {
     "name": "stdout",
     "output_type": "stream",
     "text": [
      "train error:  0.52\n",
      "val error:  0.51\n"
     ]
    }
   ],
   "source": [
    "w_0, w, err_val = eval_pipeline(df_train, y_train, df_val_, y_val_, X_COLS, fillna_val=0, reg=0.001)"
   ]
  },
  {
   "cell_type": "code",
   "execution_count": null,
   "id": "8776f7fe-6ddc-4a72-9bc5-66c4ad395992",
   "metadata": {},
   "outputs": [],
   "source": []
  }
 ],
 "metadata": {
  "kernelspec": {
   "display_name": "ml-zoomcamp",
   "language": "python",
   "name": "myenv"
  },
  "language_info": {
   "codemirror_mode": {
    "name": "ipython",
    "version": 3
   },
   "file_extension": ".py",
   "mimetype": "text/x-python",
   "name": "python",
   "nbconvert_exporter": "python",
   "pygments_lexer": "ipython3",
   "version": "3.11.13"
  }
 },
 "nbformat": 4,
 "nbformat_minor": 5
}
